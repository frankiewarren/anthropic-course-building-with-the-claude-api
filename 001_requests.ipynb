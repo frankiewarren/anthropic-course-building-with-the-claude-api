{
 "cells": [
  {
   "cell_type": "code",
   "execution_count": null,
   "id": "7fa9726d",
   "metadata": {
    "vscode": {
     "languageId": "plaintext"
    }
   },
   "outputs": [],
   "source": [
    "#Install dependencies"
   ]
  },
  {
   "cell_type": "code",
   "execution_count": null,
   "id": "08860e9a",
   "metadata": {
    "vscode": {
     "languageId": "plaintext"
    }
   },
   "outputs": [],
   "source": [
    "# Load env variables"
   ]
  },
  {
   "cell_type": "code",
   "execution_count": null,
   "id": "30bdfa55",
   "metadata": {
    "vscode": {
     "languageId": "plaintext"
    }
   },
   "outputs": [],
   "source": [
    "# Create an API client"
   ]
  },
  {
   "cell_type": "code",
   "execution_count": null,
   "id": "73924b69",
   "metadata": {
    "vscode": {
     "languageId": "plaintext"
    }
   },
   "outputs": [],
   "source": [
    "# Make a request"
   ]
  }
 ],
 "metadata": {
  "language_info": {
   "name": "python"
  }
 },
 "nbformat": 4,
 "nbformat_minor": 5
}
