{
 "cells": [
  {
   "cell_type": "code",
   "execution_count": 3,
   "id": "c0bd9e4b",
   "metadata": {},
   "outputs": [
    {
     "data": {
      "text/plain": [
       "True"
      ]
     },
     "execution_count": 3,
     "metadata": {},
     "output_type": "execute_result"
    }
   ],
   "source": [
    "# Load env  variables\n",
    "from dotenv import load_dotenv\n",
    "\n",
    "load_dotenv()"
   ]
  },
  {
   "cell_type": "code",
   "execution_count": 4,
   "id": "b1fd6f14",
   "metadata": {},
   "outputs": [],
   "source": [
    "# Create an API client\n",
    "from anthropic import Anthropic\n",
    "\n",
    "client = Anthropic()\n",
    "model = \"claude-sonnet-4-0\""
   ]
  },
  {
   "cell_type": "code",
   "execution_count": 5,
   "id": "3b01a1f4",
   "metadata": {},
   "outputs": [],
   "source": [
    "def add_user_message(messages, text):\n",
    "    user_message = {\"role\": \"user\", \"content\": text}\n",
    "    messages.append(user_message)\n",
    "\n",
    "def add_assistant_message(messages, text):\n",
    "    assistant_message = {\"role\": \"assistant\", \"content\": text}\n",
    "    messages.append(assistant_message)\n",
    "\n",
    "def chat(messages):\n",
    "    message = client.messages.create(\n",
    "        model=model,\n",
    "        max_tokens=1000,\n",
    "        messages=messages,\n",
    "    )\n",
    "    return message.content[0].text"
   ]
  },
  {
   "cell_type": "code",
   "execution_count": null,
   "id": "fb7d1f2a",
   "metadata": {},
   "outputs": [
    {
     "name": "stdout",
     "output_type": "stream",
     "text": [
      "> What's 1+1?\n",
      "---\n",
      "1 + 1 = 2\n",
      "---\n",
      "> And 2 more?\n",
      "---\n",
      "2 + 2 = 4\n",
      "---\n",
      "> Who is the president?\n",
      "---\n",
      "I'd be happy to help, but I'd need to know which country you're asking about and what the current date is, since my knowledge has a cutoff date and presidencies change over time.\n",
      "\n",
      "If you're asking about the United States, as of my last update in April 2024, Joe Biden was the president. However, if you're asking about a different country or if significant time has passed, the answer might be different.\n",
      "\n",
      "Could you clarify which country's president you're interested in?\n",
      "---\n",
      "> US\n",
      "---\n",
      "As of my last knowledge update in April 2024, Joe Biden is the President of the United States. He took office on January 20, 2021.\n",
      "\n",
      "However, since I don't have access to real-time information, if you're asking this question significantly after April 2024, there's a possibility this information could be outdated depending on election results or other circumstances.\n",
      "---\n"
     ]
    }
   ],
   "source": [
    "# Make an initial list of messages\n",
    "messages = []\n",
    "\n",
    "# Use a 'while True' loop to run the chatbot forever\n",
    "while True:\n",
    "    # Get user input\n",
    "    user_input = input(\"> \")\n",
    "    print(\">\", user_input)\n",
    "\n",
    "    # Add user input to the list of messages\n",
    "    add_user_message(messages, user_input)\n",
    "\n",
    "    # Call Claude with the 'chat' function\n",
    "    answer = chat(messages)\n",
    "    # Add generated text to the list of messages\n",
    "    add_assistant_message(messages, answer)\n",
    "\n",
    "    # Print the generated message\n",
    "    print(\"---\")\n",
    "    print(answer)\n",
    "    print(\"---\")"
   ]
  }
 ],
 "metadata": {
  "kernelspec": {
   "display_name": ".venv",
   "language": "python",
   "name": "python3"
  },
  "language_info": {
   "codemirror_mode": {
    "name": "ipython",
    "version": 3
   },
   "file_extension": ".py",
   "mimetype": "text/x-python",
   "name": "python",
   "nbconvert_exporter": "python",
   "pygments_lexer": "ipython3",
   "version": "3.13.5"
  }
 },
 "nbformat": 4,
 "nbformat_minor": 5
}
