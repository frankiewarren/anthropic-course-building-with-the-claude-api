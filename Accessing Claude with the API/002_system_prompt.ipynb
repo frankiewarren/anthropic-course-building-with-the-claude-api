{
 "cells": [
  {
   "cell_type": "code",
   "execution_count": 21,
   "id": "35e55d70",
   "metadata": {},
   "outputs": [
    {
     "data": {
      "text/plain": [
       "True"
      ]
     },
     "execution_count": 21,
     "metadata": {},
     "output_type": "execute_result"
    }
   ],
   "source": [
    "# Load env  variables\n",
    "from dotenv import load_dotenv\n",
    "\n",
    "load_dotenv()"
   ]
  },
  {
   "cell_type": "code",
   "execution_count": 22,
   "id": "d128c5ed",
   "metadata": {},
   "outputs": [],
   "source": [
    "# Create an API client\n",
    "from anthropic import Anthropic\n",
    "\n",
    "client = Anthropic()\n",
    "model = \"claude-sonnet-4-0\""
   ]
  },
  {
   "cell_type": "code",
   "execution_count": 23,
   "id": "3988588e",
   "metadata": {},
   "outputs": [],
   "source": [
    "def add_user_message(messages, text):\n",
    "    user_message = {\"role\": \"user\", \"content\": text}\n",
    "    messages.append(user_message)\n",
    "\n",
    "def add_assistant_message(messages, text):\n",
    "    assistant_message = {\"role\": \"assistant\", \"content\": text}\n",
    "    messages.append(assistant_message)\n",
    "\n",
    "def chat(messages, system=None):\n",
    "    params = {\n",
    "        \"model\": model,\n",
    "        \"max_tokens\": 1000,\n",
    "        \"messages\": messages,    \n",
    "    }\n",
    "    \n",
    "    if system:\n",
    "        params[\"system\"] = system\n",
    "    \n",
    "    message = client.messages.create(**params)\n",
    "    return message.content[0].text"
   ]
  },
  {
   "cell_type": "code",
   "execution_count": 24,
   "id": "2b0466e4",
   "metadata": {},
   "outputs": [
    {
     "data": {
      "text/plain": [
       "'Here\\'s a concise Python function to check for duplicate characters:\\n\\n```python\\ndef has_duplicates(s):\\n    \"\"\"Check if a string contains duplicate characters.\"\"\"\\n    return len(s) != len(set(s))\\n```\\n\\n**Usage examples:**\\n```python\\nprint(has_duplicates(\"hello\"))    # True (duplicate \\'l\\')\\nprint(has_duplicates(\"world\"))    # False (all unique)\\nprint(has_duplicates(\"python\"))   # False (all unique)\\nprint(has_duplicates(\"\"))         # False (empty string)\\n```\\n\\n**Alternative version** that returns the actual duplicate characters:\\n```python\\ndef find_duplicates(s):\\n    \"\"\"Return set of duplicate characters in a string.\"\"\"\\n    seen = set()\\n    return {char for char in s if char in seen or seen.add(char)}\\n```\\n\\nThe first function leverages the fact that sets contain only unique elements, making it both elegant and efficient with O(n) time complexity.'"
      ]
     },
     "execution_count": 24,
     "metadata": {},
     "output_type": "execute_result"
    }
   ],
   "source": [
    "messages = []\n",
    "\n",
    "system = \"\"\"\n",
    "Please write beautiful code. \n",
    "Be as concise as possible.  \n",
    "\"\"\"\n",
    "\n",
    "add_user_message(\n",
    "    messages, \n",
    "    \"Write a Python funtcion that checks a string for duplicate characters.\")\n",
    "answer = chat(messages, system=system)\n",
    "\n",
    "answer"
   ]
  }
 ],
 "metadata": {
  "kernelspec": {
   "display_name": ".venv",
   "language": "python",
   "name": "python3"
  },
  "language_info": {
   "codemirror_mode": {
    "name": "ipython",
    "version": 3
   },
   "file_extension": ".py",
   "mimetype": "text/x-python",
   "name": "python",
   "nbconvert_exporter": "python",
   "pygments_lexer": "ipython3",
   "version": "3.13.5"
  }
 },
 "nbformat": 4,
 "nbformat_minor": 5
}
