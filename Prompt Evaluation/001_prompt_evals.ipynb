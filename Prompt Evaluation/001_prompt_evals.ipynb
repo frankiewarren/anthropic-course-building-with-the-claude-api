{
 "cells": [
  {
   "cell_type": "code",
   "execution_count": 9,
   "id": "5437be1e",
   "metadata": {},
   "outputs": [],
   "source": [
    "# Load env variables and create client\n",
    "from dotenv import load_dotenv\n",
    "from anthropic import Anthropic\n",
    "\n",
    "load_dotenv()\n",
    "\n",
    "client = Anthropic()\n",
    "model = \"claude-3-5-haiku-latest\""
   ]
  },
  {
   "cell_type": "code",
   "execution_count": 10,
   "id": "3b0d8e9c",
   "metadata": {},
   "outputs": [],
   "source": [
    "# Helper functions\n",
    "def add_user_message(messages, text):\n",
    "    user_message = {\"role\": \"user\", \"content\": text}\n",
    "    messages.append(user_message)\n",
    "\n",
    "\n",
    "def add_assistant_message(messages, text):\n",
    "    assistant_message = {\"role\": \"assistant\", \"content\": text}\n",
    "    messages.append(assistant_message)\n",
    "\n",
    "\n",
    "def chat(messages, system=None, temperature=1.0, stop_sequences=[]):\n",
    "    params = {\n",
    "        \"model\": model,\n",
    "        \"max_tokens\": 1000,\n",
    "        \"messages\": messages,\n",
    "        \"temperature\": temperature,\n",
    "        \"stop_sequences\": stop_sequences,\n",
    "    }\n",
    "\n",
    "    if system:\n",
    "        params[\"system\"] = system\n",
    "\n",
    "    message = client.messages.create(**params)\n",
    "    return message.content[0].text"
   ]
  },
  {
   "cell_type": "code",
   "execution_count": 11,
   "id": "1e788701",
   "metadata": {},
   "outputs": [],
   "source": [
    "import json\n",
    "\n",
    "\n",
    "def generate_dataset():\n",
    "    prompt = \"\"\"\n",
    "Generate a evaluation dataset for a prompt evaluation. The dataset will be used to evaluate prompts\n",
    "that generate Python, JSON, or Regex specifically for AWS-related tasks. Generate an array of JSON objects,\n",
    "each representing task that requires Python, JSON, or a Regex to complete.\n",
    "\n",
    "Example output:\n",
    "```json\n",
    "[\n",
    "    {\n",
    "        \"task\": \"Description of task\",\n",
    "    },\n",
    "    ...additional\n",
    "]\n",
    "```\n",
    "\n",
    "* Focus on tasks that can be solved by writing a single Python function, a single JSON object, or a regular expression.\n",
    "* Focus on tasks that do not require writing much code\n",
    "\n",
    "Please generate 3 objects.\n",
    "\"\"\"\n",
    "\n",
    "    messages = []\n",
    "    add_user_message(messages, prompt)\n",
    "    add_assistant_message(messages, \"```json\")\n",
    "    text = chat(messages, stop_sequences=[\"```\"])\n",
    "    return json.loads(text)\n"
   ]
  },
  {
   "cell_type": "code",
   "execution_count": 12,
   "id": "f7ff204c",
   "metadata": {},
   "outputs": [],
   "source": [
    "dataset = generate_dataset()\n",
    "\n",
    "with open(\"dataset.json\", \"w\") as f:\n",
    "        json.dump(dataset, f, indent=2)"
   ]
  },
  {
   "cell_type": "code",
   "execution_count": 19,
   "id": "7e7016f3",
   "metadata": {},
   "outputs": [],
   "source": [
    "def run_prompt(test_case):\n",
    "    \"\"\"Merges the prompt and test case input, then returns the result\"\"\"\n",
    "    prompt = f\"\"\"\n",
    "Please solve the following task:\n",
    "\n",
    "{test_case[\"task\"]}\n",
    "\"\"\"\n",
    "    messages = []\n",
    "    add_user_message(messages, prompt)\n",
    "    output = chat(messages)\n",
    "    return output"
   ]
  },
  {
   "cell_type": "code",
   "execution_count": 21,
   "id": "b58621df",
   "metadata": {},
   "outputs": [],
   "source": [
    "def grade_by_model(test_case, output):\n",
    "    eval_prompt = f\"\"\"\n",
    "You are an expert AWS code reviewer. Your task is to evaluate the following AI-generated solution.\n",
    "\n",
    "Original Task:\n",
    "<task>\n",
    "{test_case[\"task\"]}\n",
    "</task>\n",
    "\n",
    "Solution to Evaluate:\n",
    "<solution>\n",
    "{output}\n",
    "</solution>\n",
    "\n",
    "Output Format\n",
    "Provide your evaluation as a structured JSON object with the following fields, in this specific order:\n",
    "- \"strengths\": An array of 1-3 key strengths\n",
    "- \"weaknesses\": An array of 1-3 key areas for improvement\n",
    "- \"reasoning\": A concise explanation of your overall assessment\n",
    "- \"score\": A number between 1-10\n",
    "\n",
    "Respond with JSON. Keep your response concise and direct.\n",
    "Example response shape:\n",
    "{{\n",
    "    \"strengths\": string[],\n",
    "    \"weaknesses\": string[],\n",
    "    \"reasoning\": string,\n",
    "    \"score\": number\n",
    "}}\n",
    "    \"\"\"\n",
    "\n",
    "    messages = []\n",
    "    add_user_message(messages, eval_prompt)\n",
    "    add_assistant_message(messages, \"```json\")\n",
    "    eval_text = chat(messages, stop_sequences=[\"```\"])\n",
    "    return json.loads(eval_text)\n",
    "    "
   ]
  },
  {
   "cell_type": "code",
   "execution_count": 22,
   "id": "67d18664",
   "metadata": {},
   "outputs": [],
   "source": [
    "def run_test_case(test_case):\n",
    "    \"\"\"Calls run_prompt, then grades thee result\"\"\"\n",
    "    output = run_prompt(test_case)\n",
    "\n",
    "    # TODO - Grading\n",
    "    model_grade = grade_by_model(test_case, output)\n",
    "    score = model_grade[\"score\"]\n",
    "    reasoning = model_grade[\"reasoning\"]\n",
    "\n",
    "    return {\n",
    "        \"output\": output,\n",
    "        \"test_case\": test_case,\n",
    "        \"score\": score,\n",
    "        \"reasoing\": reasoning\n",
    "    }"
   ]
  },
  {
   "cell_type": "code",
   "execution_count": 27,
   "id": "28722e8e",
   "metadata": {},
   "outputs": [],
   "source": [
    "from statistics import mean\n",
    "\n",
    "def run_eval(dataset):\n",
    "    \"\"\"Loads the dataset and calls run_test_case with each case\"\"\"\n",
    "    results = []\n",
    "\n",
    "    for test_case in dataset:\n",
    "        result = run_test_case(test_case)\n",
    "        results.append(result)\n",
    "    \n",
    "    average_score = mean([result[\"score\"] for result in results])\n",
    "    print(f\"Average score: {average_score}\")\n",
    "\n",
    "    return results"
   ]
  },
  {
   "cell_type": "code",
   "execution_count": 28,
   "id": "b3901042",
   "metadata": {},
   "outputs": [
    {
     "name": "stdout",
     "output_type": "stream",
     "text": [
      "Average score: 6.666666666666667\n"
     ]
    }
   ],
   "source": [
    "with open(\"dataset.json\", \"r\") as f:\n",
    "    dataset = json.load(f)\n",
    "\n",
    "results = run_eval(dataset)"
   ]
  },
  {
   "cell_type": "code",
   "execution_count": 29,
   "id": "4d817e38",
   "metadata": {},
   "outputs": [
    {
     "name": "stdout",
     "output_type": "stream",
     "text": [
      "[\n",
      "  {\n",
      "    \"output\": \"Here's a regex pattern to validate AWS IAM username format:\\n\\n```regex\\n^[a-z][a-z0-9]{0,63}$\\n```\\n\\nLet's break down the regex pattern:\\n\\n- `^` - Start of the string\\n- `[a-z]` - First character must be a lowercase letter\\n- `[a-z0-9]{0,63}` - Followed by 0-63 characters that can be lowercase letters or numbers\\n- `$` - End of the string\\n\\nThis regex ensures:\\n- Starts with a lowercase letter\\n- Contains only lowercase letters and numbers\\n- Maximum length of 64 characters\\n\\nExample validation in Python:\\n\\n```python\\nimport re\\n\\ndef validate_iam_username(username):\\n    pattern = r'^[a-z][a-z0-9]{0,63}$'\\n    return bool(re.match(pattern, username))\\n\\n# Test cases\\nprint(validate_iam_username('john-doe'))     # True\\nprint(validate_iam_username('johndoe123'))   # True\\nprint(validate_iam_username('John-Doe'))     # False (uppercase)\\nprint(validate_iam_username('1johndoe'))     # False (starts with number)\\nprint(validate_iam_username('a' * 65))       # False (too long)\\n```\",\n",
      "    \"test_case\": {\n",
      "      \"task\": \"Create a regex pattern to validate AWS IAM username format (lowercase, alphanumeric, max 64 characters, cannot start with number)\"\n",
      "    },\n",
      "    \"score\": 6,\n",
      "    \"reasoing\": \"While the regex captures basic username constraints, it does not fully align with AWS IAM username policies. AWS actually allows more character types and complexity in usernames. The solution provides a good starting point but needs refinement to match official AWS username guidelines.\"\n",
      "  },\n",
      "  {\n",
      "    \"output\": \"Here's a comprehensive Python solution to convert an AWS Lambda function configuration between regions:\\n\\n```python\\nimport boto3\\nimport json\\n\\ndef convert_lambda_function_config(source_region, destination_region, function_name):\\n    \\\"\\\"\\\"\\n    Convert AWS Lambda function configuration from one region to another\\n    \\n    Args:\\n        source_region (str): Source AWS region\\n        destination_region (str): Destination AWS region\\n        function_name (str): Name of the Lambda function\\n    \\n    Returns:\\n        dict: Configuration of the copied Lambda function\\n    \\\"\\\"\\\"\\n    # Create Lambda clients for source and destination regions\\n    source_lambda_client = boto3.client('lambda', region_name=source_region)\\n    dest_lambda_client = boto3.client('lambda', region_name=destination_region)\\n    \\n    try:\\n        # Get the source function configuration\\n        source_function = source_lambda_client.get_function(FunctionName=function_name)\\n        \\n        # Extract relevant configuration parameters\\n        function_config = {\\n            'FunctionName': function_name,\\n            'Role': source_function['Configuration']['Role'],\\n            'Handler': source_function['Configuration']['Handler'],\\n            'Code': {},\\n            'Runtime': source_function['Configuration']['Runtime'],\\n            'Description': source_function.get('Configuration', {}).get('Description', ''),\\n            'Timeout': source_function['Configuration'].get('Timeout', 3),\\n            'MemorySize': source_function['Configuration'].get('MemorySize', 128),\\n            'Environment': source_function['Configuration'].get('Environment', {}),\\n            'VpcConfig': source_function['Configuration'].get('VpcConfig', {})\\n        }\\n        \\n        # Download function code\\n        code_response = source_lambda_client.get_function_code(FunctionName=function_name)\\n        \\n        # If function is stored in S3\\n        if 'Location' in code_response:\\n            function_config['Code']['S3Bucket'] = code_response.get('Repository')\\n            function_config['Code']['S3Key'] = code_response.get('Location')\\n        else:\\n            # If function code is directly retrievable\\n            with open('/tmp/function_code.zip', 'wb') as f:\\n                f.write(source_lambda_client.get_function_code(FunctionName=function_name)['Body'].read())\\n            \\n            with open('/tmp/function_code.zip', 'rb') as f:\\n                function_config['Code']['ZipFile'] = f.read()\\n        \\n        # Create function in destination region\\n        response = dest_lambda_client.create_function(**function_config)\\n        \\n        # Copy tags if present\\n        tags = source_lambda_client.list_tags(Resource=source_function['Configuration']['FunctionArn'])\\n        if tags.get('Tags'):\\n            dest_lambda_client.tag_resource(\\n                Resource=response['FunctionArn'],\\n                Tags=tags['Tags']\\n            )\\n        \\n        return response\\n    \\n    except Exception as e:\\n        print(f\\\"Error converting Lambda function: {str(e)}\\\")\\n        return None\\n\\ndef copy_lambda_function_configuration_with_layers(source_region, destination_region, function_name):\\n    \\\"\\\"\\\"\\n    Advanced function to copy Lambda function with layers\\n    \\n    Args:\\n        source_region (str): Source AWS region\\n        destination_region (str): Destination AWS region\\n        function_name (str): Name of the Lambda function\\n    \\\"\\\"\\\"\\n    source_lambda_client = boto3.client('lambda', region_name=source_region)\\n    dest_lambda_client = boto3.client('lambda', region_name=destination_region)\\n    \\n    # Get source function details\\n    source_function = source_lambda_client.get_function(FunctionName=function_name)\\n    \\n    # Copy layers to destination region\\n    layer_versions = []\\n    for layer_arn in source_function.get('Configuration', {}).get('Layers', []):\\n        layer_details = source_lambda_client.get_layer_version_by_arn(Arn=layer_arn)\\n        \\n        # Create layer in destination region\\n        layer_response = dest_\",\n",
      "    \"test_case\": {\n",
      "      \"task\": \"Write a Python function to convert an AWS Lambda function configuration from one region to another\"\n",
      "    },\n",
      "    \"score\": 6,\n",
      "    \"reasoing\": \"The solution demonstrates a solid understanding of AWS Lambda configuration transfer, with a systematic approach to extracting and recreating function settings. However, the code is incomplete and lacks robustness for production use, particularly in handling complex layer dependencies and cross-region ARN translations.\"\n",
      "  },\n",
      "  {\n",
      "    \"output\": \"Here's a comprehensive JSON schema for an AWS S3 bucket policy that allows read access from a specific AWS account:\\n\\n```json\\n{\\n    \\\"$schema\\\": \\\"http://json-schema.org/draft-07/schema#\\\",\\n    \\\"title\\\": \\\"AWS S3 Bucket Policy Read Access Schema\\\",\\n    \\\"type\\\": \\\"object\\\",\\n    \\\"properties\\\": {\\n        \\\"Version\\\": {\\n            \\\"type\\\": \\\"string\\\",\\n            \\\"enum\\\": [\\\"2012-10-17\\\"],\\n            \\\"description\\\": \\\"Policy version, must be 2012-10-17\\\"\\n        },\\n        \\\"Statement\\\": {\\n            \\\"type\\\": \\\"array\\\",\\n            \\\"minItems\\\": 1,\\n            \\\"items\\\": {\\n                \\\"type\\\": \\\"object\\\",\\n                \\\"properties\\\": {\\n                    \\\"Sid\\\": {\\n                        \\\"type\\\": \\\"string\\\",\\n                        \\\"description\\\": \\\"Optional statement identifier\\\"\\n                    },\\n                    \\\"Effect\\\": {\\n                        \\\"type\\\": \\\"string\\\",\\n                        \\\"enum\\\": [\\\"Allow\\\", \\\"Deny\\\"],\\n                        \\\"description\\\": \\\"Whether to allow or deny the specified actions\\\"\\n                    },\\n                    \\\"Principal\\\": {\\n                        \\\"type\\\": \\\"object\\\",\\n                        \\\"properties\\\": {\\n                            \\\"AWS\\\": {\\n                                \\\"type\\\": [\\\"string\\\", \\\"array\\\"],\\n                                \\\"pattern\\\": \\\"^arn:aws:iam::[0-9]{12}:root$\\\",\\n                                \\\"description\\\": \\\"AWS account ARN with root access\\\"\\n                            }\\n                        },\\n                        \\\"required\\\": [\\\"AWS\\\"]\\n                    },\\n                    \\\"Action\\\": {\\n                        \\\"type\\\": [\\\"string\\\", \\\"array\\\"],\\n                        \\\"items\\\": {\\n                            \\\"type\\\": \\\"string\\\",\\n                            \\\"enum\\\": [\\n                                \\\"s3:GetObject\\\",\\n                                \\\"s3:ListBucket\\\",\\n                                \\\"s3:GetBucketLocation\\\"\\n                            ]\\n                        },\\n                        \\\"description\\\": \\\"S3 actions to grant permissions for\\\"\\n                    },\\n                    \\\"Resource\\\": {\\n                        \\\"type\\\": [\\\"string\\\", \\\"array\\\"],\\n                        \\\"items\\\": {\\n                            \\\"type\\\": \\\"string\\\",\\n                            \\\"pattern\\\": \\\"^arn:aws:s3:::.*$\\\"\\n                        },\\n                        \\\"description\\\": \\\"ARNs of S3 bucket and objects\\\"\\n                    },\\n                    \\\"Condition\\\": {\\n                        \\\"type\\\": \\\"object\\\",\\n                        \\\"description\\\": \\\"Optional conditions for policy application\\\",\\n                        \\\"properties\\\": {\\n                            \\\"IpAddress\\\": {\\n                                \\\"type\\\": \\\"object\\\",\\n                                \\\"properties\\\": {\\n                                    \\\"aws:SourceIp\\\": {\\n                                        \\\"type\\\": [\\\"string\\\", \\\"array\\\"],\\n                                        \\\"description\\\": \\\"Source IP restrictions\\\"\\n                                    }\\n                                }\\n                            },\\n                            \\\"StringEquals\\\": {\\n                                \\\"type\\\": \\\"object\\\",\\n                                \\\"additionalProperties\\\": true,\\n                                \\\"description\\\": \\\"Additional string-based conditions\\\"\\n                            }\\n                        }\\n                    }\\n                },\\n                \\\"required\\\": [\\\"Effect\\\", \\\"Principal\\\", \\\"Action\\\", \\\"Resource\\\"]\\n            }\\n        }\\n    },\\n    \\\"required\\\": [\\\"Version\\\", \\\"Statement\\\"]\\n}\\n```\\n\\nExample policy using this schema:\\n\\n```json\\n{\\n    \\\"Version\\\": \\\"2012-10-17\\\",\\n    \\\"Statement\\\": [\\n        {\\n            \\\"Sid\\\": \\\"AllowReadAccessToSpecificAccount\\\",\\n            \\\"Effect\\\": \\\"Allow\\\",\\n            \\\"Principal\\\": {\\n                \\\"AWS\\\": \\\"arn:aws:iam::123456789012:root\\\"\\n            },\\n            \\\"Action\\\": [\\n                \\\"s3:GetObject\\\",\\n                \\\"s3:ListBucket\\\"\\n            ],\\n            \\\"Resource\\\": [\\n                \\\"arn:aws:s3:::my-bucket\\\",\\n                \\\"arn:aws:s3:::my-bucket/*\\\"\\n            ]\\n        }\\n    ]\\n}\\n```\\n\\nThis schema provides:\\n- Validation for policy version\\n- Strict definition of AWS account ARN format\\n- Allowed S3 read-related actions\\n- S3 resource ARN validation\\n- Optional condition support\\n- Ensures required fields are present\\n\\nThe example policy demonstrates granting read access to objects in a specific S3 bucket for the AWS account with ID 123\",\n",
      "    \"test_case\": {\n",
      "      \"task\": \"Develop a JSON schema to define the structure for an AWS S3 bucket policy that allows read access from a specific AWS account\"\n",
      "    },\n",
      "    \"score\": 8,\n",
      "    \"reasoing\": \"The solution provides a well-structured and rigorous approach to defining an AWS S3 bucket policy schema. It demonstrates strong understanding of policy composition, validation constraints, and AWS resource ARN patterns. While comprehensive, it could benefit from more dynamic action definitions and clearer error messaging.\"\n",
      "  }\n",
      "]\n"
     ]
    }
   ],
   "source": [
    "print(json.dumps(results, indent=2))"
   ]
  }
 ],
 "metadata": {
  "kernelspec": {
   "display_name": ".venv",
   "language": "python",
   "name": "python3"
  },
  "language_info": {
   "codemirror_mode": {
    "name": "ipython",
    "version": 3
   },
   "file_extension": ".py",
   "mimetype": "text/x-python",
   "name": "python",
   "nbconvert_exporter": "python",
   "pygments_lexer": "ipython3",
   "version": "3.13.5"
  }
 },
 "nbformat": 4,
 "nbformat_minor": 5
}
